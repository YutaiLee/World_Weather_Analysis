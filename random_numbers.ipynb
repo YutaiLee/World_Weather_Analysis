{
 "cells": [
  {
   "cell_type": "code",
   "execution_count": 1,
   "id": "3196f7bf-d953-4cca-9783-24003af042e1",
   "metadata": {},
   "outputs": [],
   "source": [
    "# Import the random module.\n",
    "import random"
   ]
  },
  {
   "cell_type": "code",
   "execution_count": 2,
   "id": "fc969423-fce0-4200-bb59-4018b8915969",
   "metadata": {},
   "outputs": [
    {
     "data": {
      "text/plain": [
       "61"
      ]
     },
     "execution_count": 2,
     "metadata": {},
     "output_type": "execute_result"
    }
   ],
   "source": [
    "random.randint(-90,90)"
   ]
  },
  {
   "cell_type": "code",
   "execution_count": 3,
   "id": "2f1b7ff9-58ff-4279-a54a-cca283550b36",
   "metadata": {},
   "outputs": [
    {
     "data": {
      "text/plain": [
       "0.8598588171391528"
      ]
     },
     "execution_count": 3,
     "metadata": {},
     "output_type": "execute_result"
    }
   ],
   "source": [
    "random.random()"
   ]
  },
  {
   "cell_type": "code",
   "execution_count": 4,
   "id": "f1980853-897e-48c2-b257-5b8be76dc0ff",
   "metadata": {},
   "outputs": [
    {
     "data": {
      "text/plain": [
       "4.696834401293991"
      ]
     },
     "execution_count": 4,
     "metadata": {},
     "output_type": "execute_result"
    }
   ],
   "source": [
    "random_number = random.randint(-90,89) + random.random()\n",
    "random_number"
   ]
  },
  {
   "cell_type": "code",
   "execution_count": 5,
   "id": "081b9c59-ddbb-4afa-8051-781de16e01a3",
   "metadata": {},
   "outputs": [
    {
     "data": {
      "text/plain": [
       "[-14.040273031600101,\n",
       " 19.145063648059004,\n",
       " -28.901449436039197,\n",
       " -20.44329098215093,\n",
       " -0.9081163015360358,\n",
       " 69.50897797939987,\n",
       " 10.784778496234734,\n",
       " -67.49428557589773,\n",
       " 44.40879169553896,\n",
       " 15.273188370817975]"
      ]
     },
     "execution_count": 5,
     "metadata": {},
     "output_type": "execute_result"
    }
   ],
   "source": [
    "x = 1\n",
    "latitudes = []\n",
    "while x < 11:\n",
    "    random_lat = random.randint(-90, 89) + random.random()\n",
    "    latitudes.append(random_lat)\n",
    "    x += 1\n",
    "latitudes"
   ]
  },
  {
   "cell_type": "code",
   "execution_count": 6,
   "id": "15b32ba0-3fcf-4207-bfbf-93c9acc6a917",
   "metadata": {},
   "outputs": [
    {
     "data": {
      "text/plain": [
       "63"
      ]
     },
     "execution_count": 6,
     "metadata": {},
     "output_type": "execute_result"
    }
   ],
   "source": [
    "random.randrange(-90,90, step=3)"
   ]
  },
  {
   "cell_type": "code",
   "execution_count": 7,
   "id": "4a65b912-cf4b-454a-8b30-856f66f1ddac",
   "metadata": {},
   "outputs": [
    {
     "data": {
      "text/plain": [
       "-86.04556304211368"
      ]
     },
     "execution_count": 7,
     "metadata": {},
     "output_type": "execute_result"
    }
   ],
   "source": [
    "random.uniform(-90,90)"
   ]
  },
  {
   "cell_type": "code",
   "execution_count": 8,
   "id": "41d58735-4e9a-467f-b178-d925a0c7dbce",
   "metadata": {},
   "outputs": [],
   "source": [
    "# Import the NumPy module.\n",
    "import numpy as np"
   ]
  },
  {
   "cell_type": "code",
   "execution_count": 9,
   "id": "103a3b95-eff2-47b5-a45e-4d122bcccf49",
   "metadata": {},
   "outputs": [
    {
     "data": {
      "text/plain": [
       "0.062379151065456995"
      ]
     },
     "execution_count": 9,
     "metadata": {},
     "output_type": "execute_result"
    }
   ],
   "source": [
    "np.random.uniform(-90.000, 90.000)"
   ]
  },
  {
   "cell_type": "code",
   "execution_count": 10,
   "id": "58be47b9-0c77-4782-b631-e906d0d962ad",
   "metadata": {},
   "outputs": [
    {
     "data": {
      "text/plain": [
       "3.3771078712451157"
      ]
     },
     "execution_count": 10,
     "metadata": {},
     "output_type": "execute_result"
    }
   ],
   "source": [
    "np.random.uniform(low=-90, high=90)"
   ]
  },
  {
   "cell_type": "code",
   "execution_count": 11,
   "id": "9db569d3-acd2-4b47-9e61-7caee1c620c7",
   "metadata": {},
   "outputs": [
    {
     "data": {
      "text/plain": [
       "array([-81.12157321, -47.52506534,  42.11301773, -33.81583341,\n",
       "        -3.43867871,  81.22502544,  53.96734813,  15.9545281 ,\n",
       "        66.65737938,  36.85681108, -36.5882184 , -49.98994165,\n",
       "       -84.74645851,  65.59522763,  58.90733702,   2.01736992,\n",
       "       -75.96326074, -83.25291315,  42.06879845, -32.42271732,\n",
       "        -5.34023064,  86.45029409, -30.94214601,   4.49561504,\n",
       "       -87.82094963,   9.83788969,   9.21318963,  -1.99872506,\n",
       "       -66.80608946, -16.60429397,  51.1866188 ,  42.6606455 ,\n",
       "        70.72634079,  55.89705241,  82.19998436, -23.44351541,\n",
       "       -15.3305005 , -31.29157432,  22.90598471, -59.4230922 ,\n",
       "        63.17864601,  70.25137466, -17.26938095,  17.93968211,\n",
       "       -11.19757919,   0.88030885, -52.90653778, -73.9322476 ,\n",
       "         2.94215777,  49.03571247])"
      ]
     },
     "execution_count": 11,
     "metadata": {},
     "output_type": "execute_result"
    }
   ],
   "source": [
    "np.random.uniform(-90.000, 90.000,size=50)"
   ]
  },
  {
   "cell_type": "code",
   "execution_count": 12,
   "id": "681dc1ca-e4f5-472c-a95b-7c503e9bb012",
   "metadata": {},
   "outputs": [],
   "source": [
    "# Import timeit.\n",
    "import timeit"
   ]
  },
  {
   "cell_type": "code",
   "execution_count": 13,
   "id": "5cf0a72f-6b2f-4a5d-b2c8-035747bdd95e",
   "metadata": {},
   "outputs": [
    {
     "name": "stdout",
     "output_type": "stream",
     "text": [
      "12 µs ± 2.88 ns per loop (mean ± std. dev. of 7 runs, 100000 loops each)\n"
     ]
    }
   ],
   "source": [
    "%timeit np.random.uniform(-90.000, 90.000, size=1500)"
   ]
  },
  {
   "cell_type": "code",
   "execution_count": 14,
   "id": "573d01ee-7415-4ae3-b861-74a15d792553",
   "metadata": {},
   "outputs": [
    {
     "name": "stdout",
     "output_type": "stream",
     "text": [
      "1.15 ms ± 4.55 µs per loop (mean ± std. dev. of 7 runs, 1000 loops each)\n"
     ]
    }
   ],
   "source": [
    "def latitudes(size):\n",
    "    latitudes = []\n",
    "    x = 0\n",
    "    while x < (size):\n",
    "        random_lat = random.randint(-90, 90) + random.random()\n",
    "        latitudes.append(random_lat)\n",
    "        x += 1\n",
    "    return latitudes\n",
    "# Call the function with 1500.\n",
    "%timeit latitudes(1500)"
   ]
  },
  {
   "cell_type": "code",
   "execution_count": 15,
   "id": "d25da9e4-f3ce-471f-8075-b608fd033559",
   "metadata": {},
   "outputs": [
    {
     "name": "stdout",
     "output_type": "stream",
     "text": [
      "1.15 ms ± 5.2 µs per loop (mean ± std. dev. of 7 runs, 1000 loops each)\n"
     ]
    }
   ],
   "source": [
    "#5.1.4 Skill Drill\n",
    "def latitudes1(size):\n",
    "    latitudes1 = []\n",
    "    x = 0\n",
    "    for x in range(size):\n",
    "        random_lat = random.randint(-90, 90) + random.random()\n",
    "        latitudes1.append(random_lat)\n",
    "        x += 1\n",
    "    return latitudes1\n",
    "# Call the function with 1500.\n",
    "%timeit latitudes1(1500)"
   ]
  },
  {
   "cell_type": "code",
   "execution_count": null,
   "id": "4deeb5f3-8fbe-45e5-a3e2-8695fe697e00",
   "metadata": {},
   "outputs": [],
   "source": []
  }
 ],
 "metadata": {
  "kernelspec": {
   "display_name": "PythonData",
   "language": "python",
   "name": "pythondata"
  },
  "language_info": {
   "codemirror_mode": {
    "name": "ipython",
    "version": 3
   },
   "file_extension": ".py",
   "mimetype": "text/x-python",
   "name": "python",
   "nbconvert_exporter": "python",
   "pygments_lexer": "ipython3",
   "version": "3.8.8"
  }
 },
 "nbformat": 4,
 "nbformat_minor": 5
}
